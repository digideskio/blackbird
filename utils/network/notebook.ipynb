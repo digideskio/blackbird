{
 "cells": [
  {
   "cell_type": "markdown",
   "metadata": {},
   "source": [
    "# Train Network for feature extraction\n",
    "\n",
    "Feed MFCC values for each song to and encoder-decoder network."
   ]
  },
  {
   "cell_type": "code",
   "execution_count": null,
   "metadata": {
    "collapsed": false
   },
   "outputs": [],
   "source": [
    "%matplotlib inline\n",
    "import matplotlib.pyplot as plt\n",
    "\n",
    "import cPickle\n",
    "import numpy as np\n",
    "\n",
    "import theano\n",
    "from keras.models import Sequential, model_from_yaml\n",
    "from keras.layers.recurrent import LSTM\n",
    "from keras.layers.core import Activation, Dense, Dropout, TimeDistributedDense, RepeatVector\n",
    "from keras.preprocessing import sequence\n",
    "import yaml\n",
    "import os\n",
    "import time"
   ]
  },
  {
   "cell_type": "markdown",
   "metadata": {},
   "source": [
    "## Read data\n",
    "Pad items with max length of 150\n",
    "\n",
    "X.shape = (N, 150, 20)"
   ]
  },
  {
   "cell_type": "code",
   "execution_count": null,
   "metadata": {
    "collapsed": false
   },
   "outputs": [],
   "source": [
    "# Read data\n",
    "config = yaml.load(open(\"../config.yaml\").read())\n",
    "beets_config = yaml.load(open(config[\"beets_config\"]).read())\n",
    "seq_features = cPickle.load(open(beets_config[\"blackbird\"][\"seq_features\"], \"rb\"))\n",
    "weights_file = beets_config[\"blackbird\"][\"lstm\"][\"weights\"]\n",
    "arch_file = beets_config[\"blackbird\"][\"lstm\"][\"arch\"]\n",
    "\n",
    "maxlen = 150\n",
    "\n",
    "X = np.empty((len(seq_features), maxlen, 20))\n",
    "\n",
    "for idx, key in enumerate(seq_features):\n",
    "    X[idx, :, :] = sequence.pad_sequences(seq_features[key], maxlen=maxlen, dtype=\"float32\").T"
   ]
  },
  {
   "cell_type": "markdown",
   "metadata": {},
   "source": [
    "## Train\n",
    "Reconstruct sequences from a dense vector of size 20"
   ]
  },
  {
   "cell_type": "code",
   "execution_count": null,
   "metadata": {
    "collapsed": true
   },
   "outputs": [],
   "source": [
    "# Create model\n",
    "\n",
    "model = Sequential()\n",
    "model.add(LSTM(64, return_sequences=False, input_shape=(maxlen, 20)))\n",
    "model.add(Dropout(0.5))\n",
    "model.add(Dense(20))\n",
    "model.add(Activation(\"tanh\"))\n",
    "model.add(RepeatVector(maxlen))\n",
    "model.add(Dropout(0.5))\n",
    "model.add(LSTM(64, return_sequences=True))\n",
    "model.add(TimeDistributedDense(20))\n",
    "\n",
    "model.compile(loss=\"mse\", optimizer=\"adam\")"
   ]
  },
  {
   "cell_type": "code",
   "execution_count": null,
   "metadata": {
    "collapsed": false,
    "scrolled": true
   },
   "outputs": [],
   "source": [
    "# Train\n",
    "history = model.fit(X, X, batch_size=128, nb_epoch=250, validation_split=0.2, verbose=2)"
   ]
  },
  {
   "cell_type": "code",
   "execution_count": null,
   "metadata": {
    "collapsed": false
   },
   "outputs": [],
   "source": [
    "# Dump history\n",
    "cPickle.dump(history.history, open(\"train_history.pickle\", \"wb\"))"
   ]
  },
  {
   "cell_type": "code",
   "execution_count": null,
   "metadata": {
    "collapsed": true
   },
   "outputs": [],
   "source": [
    "# Save architecture and weights\n",
    "if os.path.isfile(weights_file):\n",
    "    os.rename(weights_file, weights_file + \".backup.\" + str(time.time()))\n",
    "if os.path.isfile(arch_file):\n",
    "    os.rename(arch_file, arch_file + \".backup.\" + str(time.time()))\n",
    "    \n",
    "# Save things\n",
    "open(arch_file, \"w\").write(model.to_yaml())\n",
    "model.save_weights(weights_file)"
   ]
  },
  {
   "cell_type": "markdown",
   "metadata": {},
   "source": [
    "## Load previous model"
   ]
  },
  {
   "cell_type": "code",
   "execution_count": null,
   "metadata": {
    "collapsed": true
   },
   "outputs": [],
   "source": [
    "# Load model\n",
    "model = model_from_yaml(open(arch_file).read())\n",
    "model.load_weights(weights_file)"
   ]
  },
  {
   "cell_type": "code",
   "execution_count": null,
   "metadata": {
    "collapsed": true
   },
   "outputs": [],
   "source": [
    "# Function to predict output\n",
    "predict = theano.function([model.layers[0].input],\n",
    "                          model.layers[3].get_output(train=False),\n",
    "                          allow_input_downcast=True)"
   ]
  }
 ],
 "metadata": {
  "kernelspec": {
   "display_name": "Python 2",
   "language": "python",
   "name": "python2"
  },
  "language_info": {
   "codemirror_mode": {
    "name": "ipython",
    "version": 2
   },
   "file_extension": ".py",
   "mimetype": "text/x-python",
   "name": "python",
   "nbconvert_exporter": "python",
   "pygments_lexer": "ipython2",
   "version": "2.7.11"
  }
 },
 "nbformat": 4,
 "nbformat_minor": 0
}
